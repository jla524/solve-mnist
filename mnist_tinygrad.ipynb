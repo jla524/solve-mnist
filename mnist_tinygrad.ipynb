{
 "cells": [
  {
   "cell_type": "code",
   "execution_count": 1,
   "id": "30c8be86",
   "metadata": {},
   "outputs": [],
   "source": [
    "from pathlib import Path\n",
    "\n",
    "import gzip\n",
    "import numpy as np\n",
    "import matplotlib.pyplot as plt\n",
    "from tqdm import trange\n",
    "\n",
    "from tinygrad import optim\n",
    "from tinygrad.tensor import Tensor"
   ]
  },
  {
   "cell_type": "code",
   "execution_count": 2,
   "id": "047242f1",
   "metadata": {},
   "outputs": [],
   "source": [
    "def fetch(file_name):\n",
    "    data_dir = Path('data')\n",
    "    with gzip.open(data_dir / file_name, 'rb') as file:\n",
    "        array = np.frombuffer(file.read(), np.uint8)\n",
    "    return array.copy()\n",
    "\n",
    "\n",
    "x_train = fetch('train-images-idx3-ubyte.gz')[16:].reshape((-1, 28 * 28)).astype(np.float32)\n",
    "y_train = fetch('train-labels-idx1-ubyte.gz')[8:]\n",
    "x_test = fetch('t10k-images-idx3-ubyte.gz')[16:].reshape((-1, 28 * 28)).astype(np.float32)\n",
    "y_test = fetch('t10k-labels-idx1-ubyte.gz')[8:]"
   ]
  },
  {
   "cell_type": "code",
   "execution_count": 3,
   "id": "a702547c",
   "metadata": {},
   "outputs": [],
   "source": [
    "bs = 128\n",
    "lr = 0.001\n",
    "epochs = 1000"
   ]
  },
  {
   "cell_type": "code",
   "execution_count": 4,
   "id": "af8a6379",
   "metadata": {},
   "outputs": [],
   "source": [
    "# https://github.com/geohot/tinygrad/blob/c162e748f59605af5134364b200c3ef0dc6ac342/extra/training.py\n",
    "def sparse_categorical_crossentropy(out, Y):\n",
    "    num_classes = out.shape[-1]\n",
    "    YY = Y.flatten()\n",
    "    y = np.zeros((YY.shape[0], num_classes), np.float32)\n",
    "    # correct loss for NLL, torch NLL loss returns one per row\n",
    "    y[range(y.shape[0]),YY] = -1.0 * num_classes\n",
    "    y = y.reshape(list(Y.shape)+[num_classes])\n",
    "    y = Tensor(y)\n",
    "    return out.mul(y).mean()\n",
    "\n",
    "\n",
    "loss_func = sparse_categorical_crossentropy"
   ]
  },
  {
   "cell_type": "code",
   "execution_count": 5,
   "id": "34f08133",
   "metadata": {},
   "outputs": [],
   "source": [
    "# Not a CNN\n",
    "class TinyCNN:\n",
    "    def __init__(self):\n",
    "        self.l1 = Tensor.uniform(784, 256)\n",
    "        self.l2 = Tensor.uniform(256, 128)\n",
    "        self.l3 = Tensor.uniform(128, 10)\n",
    "\n",
    "    def forward(self, x):\n",
    "        x = x.dot(self.l1).relu()\n",
    "        x = x.dot(self.l2).relu()\n",
    "        x = x.dot(self.l3).logsoftmax()\n",
    "        return x\n",
    "\n",
    "\n",
    "model = TinyCNN()\n",
    "opt = optim.Adam([model.l1, model.l2], lr=lr)"
   ]
  },
  {
   "cell_type": "code",
   "execution_count": 6,
   "id": "f9314011",
   "metadata": {},
   "outputs": [
    {
     "name": "stderr",
     "output_type": "stream",
     "text": [
      "loss 2.30 accuracy 0.09:   0%|          | 0/1000 [00:00<?, ?it/s]"
     ]
    },
    {
     "name": "stdout",
     "output_type": "stream",
     "text": [
      "warning, (128, 10) isn't float32\n"
     ]
    },
    {
     "name": "stderr",
     "output_type": "stream",
     "text": [
      "loss 0.06 accuracy 0.98: 100%|██████████| 1000/1000 [00:35<00:00, 27.86it/s]\n"
     ]
    },
    {
     "data": {
      "text/plain": [
       "[<matplotlib.lines.Line2D at 0x10a382430>]"
      ]
     },
     "execution_count": 6,
     "metadata": {},
     "output_type": "execute_result"
    },
    {
     "data": {
      "image/png": "[encoded data removed]",
      "text/plain": [
       "<Figure size 432x288 with 1 Axes>"
      ]
     },
     "metadata": {
      "needs_background": "light"
     },
     "output_type": "display_data"
    }
   ],
   "source": [
    "accuracies = []\n",
    "losses = []\n",
    "\n",
    "for epoch in (t := trange(epochs)):\n",
    "    samp = np.random.randint(0, len(x_train), size=(bs))\n",
    "    x = Tensor(x_train[samp])\n",
    "    y = y_train[samp]\n",
    "\n",
    "    out = model.forward(x)\n",
    "    loss = loss_func(out, y)\n",
    "\n",
    "    opt.zero_grad()\n",
    "    loss.backward()\n",
    "    opt.step()\n",
    "    \n",
    "    cat = np.argmax(out.data, axis=-1)\n",
    "    accuracy = (cat == y).mean()\n",
    "    loss = loss.data\n",
    "\n",
    "    losses.append(loss)\n",
    "    accuracies.append(accuracy)\n",
    "    t.set_description(\"loss %.2f accuracy %.2f\" % (loss, accuracy))\n",
    "\n",
    "plt.ylim(-0.1, 1.1)\n",
    "plt.plot(losses)\n",
    "plt.plot(accuracies)"
   ]
  },
  {
   "cell_type": "code",
   "execution_count": 7,
   "id": "b4222a60",
   "metadata": {},
   "outputs": [
    {
     "data": {
      "text/plain": [
       "0.9648"
      ]
     },
     "execution_count": 7,
     "metadata": {},
     "output_type": "execute_result"
    }
   ],
   "source": [
    "out = model.forward(Tensor(x_test)).data\n",
    "pred = np.argmax(out, axis=-1)\n",
    "(pred == y_test).mean()"
   ]
  },
  {
   "cell_type": "code",
   "execution_count": null,
   "id": "8d66c36a",
   "metadata": {},
   "outputs": [],
   "source": []
  }
 ],
 "metadata": {
  "kernelspec": {
   "display_name": "Python 3",
   "language": "python",
   "name": "python3"
  },
  "language_info": {
   "codemirror_mode": {
    "name": "ipython",
    "version": 3
   },
   "file_extension": ".py",
   "mimetype": "text/x-python",
   "name": "python",
   "nbconvert_exporter": "python",
   "pygments_lexer": "ipython3",
   "version": "3.9.9"
  }
 },
 "nbformat": 4,
 "nbformat_minor": 5
}
