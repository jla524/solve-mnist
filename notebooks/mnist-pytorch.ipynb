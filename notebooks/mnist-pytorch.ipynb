{
 "cells": [
  {
   "cell_type": "code",
   "execution_count": 1,
   "id": "30c8be86",
   "metadata": {},
   "outputs": [],
   "source": [
    "from pathlib import Path\n",
    "\n",
    "import gzip\n",
    "import numpy as np\n",
    "import matplotlib.pyplot as plt\n",
    "from tqdm import trange\n",
    "\n",
    "import torch\n",
    "import torch.nn.functional as F\n",
    "from torch import nn, optim, Tensor"
   ]
  },
  {
   "cell_type": "code",
   "execution_count": 2,
   "id": "c104d033",
   "metadata": {},
   "outputs": [],
   "source": [
    "root_dir = Path('.').resolve(strict=True).parent\n",
    "data_dir = root_dir / 'data'"
   ]
  },
  {
   "cell_type": "code",
   "execution_count": 3,
   "id": "047242f1",
   "metadata": {},
   "outputs": [],
   "source": [
    "def fetch(file_name):\n",
    "    with gzip.open(data_dir / file_name, 'rb') as file:\n",
    "        array = np.frombuffer(file.read(), np.uint8)\n",
    "    return array.copy()\n",
    "\n",
    "\n",
    "x_train = fetch('train-images-idx3-ubyte.gz')[16:].reshape((-1, 28, 28))\n",
    "y_train = fetch('train-labels-idx1-ubyte.gz')[8:]\n",
    "x_test = fetch('t10k-images-idx3-ubyte.gz')[16:].reshape((-1, 28, 28))\n",
    "y_test = fetch('t10k-labels-idx1-ubyte.gz')[8:]"
   ]
  },
  {
   "cell_type": "code",
   "execution_count": 4,
   "id": "a702547c",
   "metadata": {},
   "outputs": [],
   "source": [
    "bs = 128\n",
    "lr = 0.001\n",
    "epochs = 1000\n",
    "loss_func = F.cross_entropy"
   ]
  },
  {
   "cell_type": "code",
   "execution_count": 5,
   "id": "34f08133",
   "metadata": {},
   "outputs": [],
   "source": [
    "class CNN(nn.Module):\n",
    "    def __init__(self):\n",
    "        super().__init__()\n",
    "        self.conv1 = nn.Conv2d(1, 64, kernel_size=3, stride=2, padding=1)\n",
    "        self.conv2 = nn.Conv2d(64, 64, kernel_size=3, stride=2, padding=1)\n",
    "        self.conv3 = nn.Conv2d(64, 10, kernel_size=3, stride=2, padding=1)\n",
    "\n",
    "    def forward(self, x):\n",
    "        x = x.view(-1, 1, 28, 28)\n",
    "        x = F.relu(self.conv1(x))\n",
    "        x = F.relu(self.conv2(x))\n",
    "        x = F.relu(self.conv3(x))\n",
    "        x = F.avg_pool2d(x, 4)\n",
    "        x = x.view(x.size(0), -1)\n",
    "        return x\n",
    "\n",
    "\n",
    "model = CNN()\n",
    "opt = optim.Adam(model.parameters(), lr=lr)"
   ]
  },
  {
   "cell_type": "code",
   "execution_count": 6,
   "id": "f9314011",
   "metadata": {},
   "outputs": [
    {
     "name": "stderr",
     "output_type": "stream",
     "text": [
      "loss 0.10 accuracy 0.97: 100%|██████████| 1000/1000 [00:47<00:00, 21.10it/s]\n"
     ]
    },
    {
     "data": {
      "text/plain": [
       "[<matplotlib.lines.Line2D at 0x10c2d2430>]"
      ]
     },
     "execution_count": 6,
     "metadata": {},
     "output_type": "execute_result"
    },
    {
     "data": {
      "image/png": "[encoded data removed]",
      "text/plain": [
       "<Figure size 432x288 with 1 Axes>"
      ]
     },
     "metadata": {
      "needs_background": "light"
     },
     "output_type": "display_data"
    }
   ],
   "source": [
    "accuracies = []\n",
    "losses = []\n",
    "\n",
    "for epoch in (t := trange(epochs)):\n",
    "    samp = np.random.randint(0, len(x_train), size=(bs))\n",
    "    x = Tensor(x_train[samp].reshape((-1, 28*28))).float()\n",
    "    y = Tensor(y_train[samp]).long()\n",
    "\n",
    "    out = model(x)\n",
    "    pred = torch.argmax(out, dim=1)\n",
    "    accuracy = (pred == y).float().mean()\n",
    "    loss = loss_func(out, y)\n",
    "\n",
    "    loss.backward()\n",
    "    opt.step()\n",
    "    opt.zero_grad()\n",
    "\n",
    "    t.set_description(f'loss {loss:.2f} accuracy {accuracy:.2f}')\n",
    "    accuracies.append(accuracy.item())\n",
    "    losses.append(loss.item())\n",
    "\n",
    "plt.ylim(-0.1, 1.1)\n",
    "plt.plot(losses)\n",
    "plt.plot(accuracies)"
   ]
  },
  {
   "cell_type": "code",
   "execution_count": 7,
   "id": "b4222a60",
   "metadata": {},
   "outputs": [
    {
     "data": {
      "text/plain": [
       "0.9557"
      ]
     },
     "execution_count": 7,
     "metadata": {},
     "output_type": "execute_result"
    }
   ],
   "source": [
    "pred = torch.argmax(model(Tensor(x_test).float()), dim=1).numpy()\n",
    "(pred == y_test).mean()"
   ]
  },
  {
   "cell_type": "code",
   "execution_count": null,
   "id": "8d66c36a",
   "metadata": {},
   "outputs": [],
   "source": []
  }
 ],
 "metadata": {
  "kernelspec": {
   "display_name": "Python 3",
   "language": "python",
   "name": "python3"
  },
  "language_info": {
   "codemirror_mode": {
    "name": "ipython",
    "version": 3
   },
   "file_extension": ".py",
   "mimetype": "text/x-python",
   "name": "python",
   "nbconvert_exporter": "python",
   "pygments_lexer": "ipython3",
   "version": "3.9.7"
  }
 },
 "nbformat": 4,
 "nbformat_minor": 5
}
